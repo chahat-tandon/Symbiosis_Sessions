{
 "cells": [
  {
   "cell_type": "code",
   "execution_count": 1,
   "metadata": {
    "scrolled": true
   },
   "outputs": [],
   "source": [
    "from tensorflow.keras.models import load_model   #can use joblib\n",
    "import numpy as np\n",
    "import cv2\n",
    "model = load_model('C:/Users/chaha/Desktop/4th July/chahat.h5')\n",
    "model.compile(optimizer = 'adam',loss='categorical_crossentropy',metrics=['accuracy']) "
   ]
  },
  {
   "cell_type": "code",
   "execution_count": 2,
   "metadata": {},
   "outputs": [],
   "source": [
    "import smtplib"
   ]
  },
  {
   "cell_type": "code",
   "execution_count": 3,
   "metadata": {},
   "outputs": [],
   "source": [
    "from skimage.transform import resize\n",
    "def detect(frame):\n",
    "    try:\n",
    "        img = resize(frame,(64,64))\n",
    "        img = np.expand_dims(img,axis=0)\n",
    "        if(np.max(img)>1):\n",
    "            img = img/255.0\n",
    "        prediction = model.predict(img)    \n",
    "        print(prediction)\n",
    "        prediction_class = model.predict_classes(img)\n",
    "        print(prediction_class)\n",
    "        \n",
    "        gmail_user = 'chahat.7874@gmail.com'   #email id without @gmail.com\n",
    "        gmail_password = 'ilovegmail1211'\n",
    "    #email properties\n",
    "        sent_from = gmail_user\n",
    "        to = ['chahat.7874@gmail.com']\n",
    "        subject = \"\"\"\"!!!Alert!!!\"\"\"\n",
    "        email_text = \"\"\"There's a bird eating all your crops!!!\"\"\"\n",
    "        server = smtplib.SMTP_SSL('smtp.gmail.com',465)\n",
    "        server.ehlo()       #for identification\n",
    "        server.login(gmail_user, gmail_password)   #login to the server\n",
    "        server.sendmail(sent_from, to, email_text)  #sends the msg\n",
    "        server.close()                              #close connection\n",
    "        print ('Email sent!')\n",
    "       \n",
    "        \n",
    "    except AttributeError:\n",
    "        print(\"Shape not found\")\n",
    "        "
   ]
  },
  {
   "cell_type": "code",
   "execution_count": 4,
   "metadata": {},
   "outputs": [
    {
     "name": "stdout",
     "output_type": "stream",
     "text": [
      "[[1.0000000e+00 1.0349937e-26 4.9480819e-28 1.1340597e-17 1.4721469e-24]]\n",
      "[0]\n"
     ]
    },
    {
     "name": "stderr",
     "output_type": "stream",
     "text": [
      "C:\\Users\\chaha\\anaconda3\\lib\\site-packages\\tensorflow\\python\\keras\\engine\\sequential.py:450: UserWarning: `model.predict_classes()` is deprecated and will be removed after 2021-01-01. Please use instead:* `np.argmax(model.predict(x), axis=-1)`,   if your model does multi-class classification   (e.g. if it uses a `softmax` last-layer activation).* `(model.predict(x) > 0.5).astype(\"int32\")`,   if your model does binary classification   (e.g. if it uses a `sigmoid` last-layer activation).\n",
      "  warnings.warn('`model.predict_classes()` is deprecated and '\n"
     ]
    },
    {
     "name": "stdout",
     "output_type": "stream",
     "text": [
      "Email sent!\n"
     ]
    }
   ],
   "source": [
    "frame = cv2.imread(r'C:\\Users\\chaha\\Desktop\\4th July\\testing\\doves\\2.jpg') #to read image\n",
    "data = detect(frame)"
   ]
  },
  {
   "cell_type": "code",
   "execution_count": 5,
   "metadata": {},
   "outputs": [
    {
     "name": "stdout",
     "output_type": "stream",
     "text": [
      "Shape not found\n"
     ]
    }
   ],
   "source": [
    "frame = cv2.imread(r'C:\\Users\\chaha\\Desktop\\4th July\\testing\\parrots\\3.jpg') #to read image\n",
    "data = detect(frame)"
   ]
  },
  {
   "cell_type": "code",
   "execution_count": null,
   "metadata": {},
   "outputs": [],
   "source": []
  },
  {
   "cell_type": "code",
   "execution_count": 7,
   "metadata": {},
   "outputs": [
    {
     "name": "stdout",
     "output_type": "stream",
     "text": [
      "[[6.4428150e-12 7.3982612e-11 9.9640673e-01 3.5932593e-03 6.9480031e-09]]\n",
      "[2]\n",
      "Email sent!\n"
     ]
    }
   ],
   "source": [
    "frame = cv2.imread(r'C:\\Users\\chaha\\Desktop\\4th July\\testing\\owls\\3.jpg') #to read image\n",
    "data = detect(frame)"
   ]
  },
  {
   "cell_type": "code",
   "execution_count": null,
   "metadata": {},
   "outputs": [],
   "source": []
  },
  {
   "cell_type": "code",
   "execution_count": null,
   "metadata": {},
   "outputs": [],
   "source": []
  }
 ],
 "metadata": {
  "kernelspec": {
   "display_name": "Python 3",
   "language": "python",
   "name": "python3"
  },
  "language_info": {
   "codemirror_mode": {
    "name": "ipython",
    "version": 3
   },
   "file_extension": ".py",
   "mimetype": "text/x-python",
   "name": "python",
   "nbconvert_exporter": "python",
   "pygments_lexer": "ipython3",
   "version": "3.7.6"
  }
 },
 "nbformat": 4,
 "nbformat_minor": 4
}
