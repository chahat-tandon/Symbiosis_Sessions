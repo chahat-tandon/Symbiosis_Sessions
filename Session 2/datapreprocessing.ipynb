{
 "cells": [
  {
   "cell_type": "markdown",
   "metadata": {},
   "source": [
    "# Loading the dataset and pre-processing"
   ]
  },
  {
   "cell_type": "markdown",
   "metadata": {},
   "source": [
    "### Import DataGenerator Library"
   ]
  },
  {
   "cell_type": "code",
   "execution_count": 1,
   "metadata": {},
   "outputs": [],
   "source": [
    "from keras.preprocessing.image import ImageDataGenerator"
   ]
  },
  {
   "cell_type": "markdown",
   "metadata": {},
   "source": [
    "### Configure Image DataGenerator Class"
   ]
  },
  {
   "cell_type": "code",
   "execution_count": 2,
   "metadata": {},
   "outputs": [],
   "source": [
    "train_datagen = ImageDataGenerator(rescale=1./255,shear_range=0.2,horizontal_flip=True,zoom_range=0.2) \n",
    "test_datagen = ImageDataGenerator(rescale=1./255)"
   ]
  },
  {
   "cell_type": "markdown",
   "metadata": {},
   "source": [
    "### Apply Image Data Generator Functionality to Trainset and Testset"
   ]
  },
  {
   "cell_type": "code",
   "execution_count": 3,
   "metadata": {},
   "outputs": [
    {
     "name": "stdout",
     "output_type": "stream",
     "text": [
      "Found 232 images belonging to 5 classes.\n",
      "Found 1265 images belonging to 5 classes.\n"
     ]
    }
   ],
   "source": [
    "x_train = train_datagen.flow_from_directory(r'C:\\Users\\chaha\\Desktop\\4th July\\training',target_size=(64,64),batch_size=32,class_mode='categorical')\n",
    "x_test = test_datagen.flow_from_directory(r'C:\\Users\\chaha\\Desktop\\4th July\\testing',target_size=(64,64),batch_size=32,class_mode='categorical')\n"
   ]
  },
  {
   "cell_type": "markdown",
   "metadata": {},
   "source": [
    "### Check indices assigned "
   ]
  },
  {
   "cell_type": "code",
   "execution_count": 4,
   "metadata": {},
   "outputs": [
    {
     "name": "stdout",
     "output_type": "stream",
     "text": [
      "{'doves': 0, 'hens': 1, 'humming_birds': 2, 'owls': 3, 'parrots': 4}\n"
     ]
    }
   ],
   "source": [
    "print(x_train.class_indices)  "
   ]
  },
  {
   "cell_type": "markdown",
   "metadata": {},
   "source": [
    "# Model Building"
   ]
  },
  {
   "cell_type": "markdown",
   "metadata": {},
   "source": [
    "### Importing the model building libraries"
   ]
  },
  {
   "cell_type": "code",
   "execution_count": 5,
   "metadata": {},
   "outputs": [],
   "source": [
    "from tensorflow.keras.models import Sequential\n",
    "from tensorflow.keras.layers import Dense\n",
    "from tensorflow.keras.layers import Conv2D  #convolution layer\n",
    "from tensorflow.keras.layers import MaxPool2D #max pooling\n",
    "from tensorflow.keras.layers import Flatten  #flatten layer"
   ]
  },
  {
   "cell_type": "markdown",
   "metadata": {},
   "source": [
    "### Initializing the model\n"
   ]
  },
  {
   "cell_type": "code",
   "execution_count": 6,
   "metadata": {},
   "outputs": [],
   "source": [
    "model = Sequential()"
   ]
  },
  {
   "cell_type": "markdown",
   "metadata": {},
   "source": [
    "### Loading preprocessed data"
   ]
  },
  {
   "cell_type": "markdown",
   "metadata": {},
   "source": [
    "### Adding CNN Layers"
   ]
  },
  {
   "cell_type": "code",
   "execution_count": 7,
   "metadata": {},
   "outputs": [],
   "source": [
    "model.add(Conv2D(32,3,3,input_shape=(64,64,3),activation='relu'))"
   ]
  },
  {
   "cell_type": "markdown",
   "metadata": {},
   "source": [
    "### Add Pooling Layer"
   ]
  },
  {
   "cell_type": "code",
   "execution_count": 8,
   "metadata": {},
   "outputs": [],
   "source": [
    "model.add(MaxPool2D(pool_size=(2,2)))"
   ]
  },
  {
   "cell_type": "markdown",
   "metadata": {},
   "source": [
    "### Add Flaten Layer"
   ]
  },
  {
   "cell_type": "code",
   "execution_count": 9,
   "metadata": {},
   "outputs": [],
   "source": [
    "model.add(Flatten())"
   ]
  },
  {
   "cell_type": "markdown",
   "metadata": {},
   "source": [
    "### Add Dense Layer"
   ]
  },
  {
   "cell_type": "code",
   "execution_count": 10,
   "metadata": {},
   "outputs": [],
   "source": [
    "model.add(Dense(units=128,activation='relu',kernel_initializer='random_uniform'))"
   ]
  },
  {
   "cell_type": "code",
   "execution_count": 11,
   "metadata": {},
   "outputs": [],
   "source": [
    "model.add(Dense(units=5,kernel_initializer='random_uniform',activation='softmax'))"
   ]
  },
  {
   "cell_type": "code",
   "execution_count": 12,
   "metadata": {},
   "outputs": [
    {
     "name": "stdout",
     "output_type": "stream",
     "text": [
      "Model: \"sequential\"\n",
      "_________________________________________________________________\n",
      "Layer (type)                 Output Shape              Param #   \n",
      "=================================================================\n",
      "conv2d (Conv2D)              (None, 21, 21, 32)        896       \n",
      "_________________________________________________________________\n",
      "max_pooling2d (MaxPooling2D) (None, 10, 10, 32)        0         \n",
      "_________________________________________________________________\n",
      "flatten (Flatten)            (None, 3200)              0         \n",
      "_________________________________________________________________\n",
      "dense (Dense)                (None, 128)               409728    \n",
      "_________________________________________________________________\n",
      "dense_1 (Dense)              (None, 5)                 645       \n",
      "=================================================================\n",
      "Total params: 411,269\n",
      "Trainable params: 411,269\n",
      "Non-trainable params: 0\n",
      "_________________________________________________________________\n"
     ]
    }
   ],
   "source": [
    "model.summary()"
   ]
  },
  {
   "cell_type": "markdown",
   "metadata": {},
   "source": [
    "### Configure Learning Process"
   ]
  },
  {
   "cell_type": "code",
   "execution_count": 13,
   "metadata": {},
   "outputs": [],
   "source": [
    "model.compile(optimizer = 'adam',loss='categorical_crossentropy',metrics=['accuracy']) "
   ]
  },
  {
   "cell_type": "markdown",
   "metadata": {},
   "source": [
    "### Train the model"
   ]
  },
  {
   "cell_type": "code",
   "execution_count": 14,
   "metadata": {},
   "outputs": [
    {
     "name": "stdout",
     "output_type": "stream",
     "text": [
      "Epoch 1/35\n",
      "1265/1265 [==============================] - 359s 284ms/step - loss: 0.7494 - accuracy: 0.7162 - val_loss: 0.6809 - val_accuracy: 0.7667\n",
      "Epoch 2/35\n",
      "1265/1265 [==============================] - 374s 296ms/step - loss: 0.2965 - accuracy: 0.8964 - val_loss: 0.8702 - val_accuracy: 0.7848\n",
      "Epoch 3/35\n",
      "1265/1265 [==============================] - 355s 281ms/step - loss: 0.1358 - accuracy: 0.9571 - val_loss: 1.0715 - val_accuracy: 0.7848\n",
      "Epoch 4/35\n",
      "1265/1265 [==============================] - 371s 293ms/step - loss: 0.0655 - accuracy: 0.9814 - val_loss: 1.4647 - val_accuracy: 0.7485\n",
      "Epoch 5/35\n",
      "1265/1265 [==============================] - 362s 286ms/step - loss: 0.0456 - accuracy: 0.9872 - val_loss: 1.2931 - val_accuracy: 0.7818\n",
      "Epoch 6/35\n",
      "1265/1265 [==============================] - 375s 296ms/step - loss: 0.0314 - accuracy: 0.9914 - val_loss: 1.4051 - val_accuracy: 0.7818\n",
      "Epoch 7/35\n",
      "1265/1265 [==============================] - 363s 287ms/step - loss: 0.0263 - accuracy: 0.9924 - val_loss: 1.6325 - val_accuracy: 0.7939\n",
      "Epoch 8/35\n",
      "1265/1265 [==============================] - 342s 270ms/step - loss: 0.0245 - accuracy: 0.9926 - val_loss: 1.5615 - val_accuracy: 0.7848\n",
      "Epoch 9/35\n",
      "1265/1265 [==============================] - 337s 267ms/step - loss: 0.0142 - accuracy: 0.9961 - val_loss: 1.6564 - val_accuracy: 0.7606\n",
      "Epoch 10/35\n",
      "1265/1265 [==============================] - 346s 273ms/step - loss: 0.0240 - accuracy: 0.9931 - val_loss: 1.7657 - val_accuracy: 0.7758\n",
      "Epoch 11/35\n",
      "1265/1265 [==============================] - 343s 272ms/step - loss: 0.0099 - accuracy: 0.9971 - val_loss: 1.6043 - val_accuracy: 0.7576\n",
      "Epoch 12/35\n",
      "1265/1265 [==============================] - 363s 287ms/step - loss: 0.0144 - accuracy: 0.9959 - val_loss: 1.7908 - val_accuracy: 0.8000\n",
      "Epoch 13/35\n",
      "1265/1265 [==============================] - 366s 290ms/step - loss: 0.0193 - accuracy: 0.9944 - val_loss: 1.9395 - val_accuracy: 0.7758\n",
      "Epoch 14/35\n",
      "1265/1265 [==============================] - 359s 284ms/step - loss: 0.0107 - accuracy: 0.9969 - val_loss: 1.8901 - val_accuracy: 0.7848\n",
      "Epoch 15/35\n",
      "1265/1265 [==============================] - 339s 268ms/step - loss: 0.0114 - accuracy: 0.9966 - val_loss: 2.0084 - val_accuracy: 0.7545\n",
      "Epoch 16/35\n",
      "1265/1265 [==============================] - 348s 275ms/step - loss: 0.0138 - accuracy: 0.9957 - val_loss: 1.9381 - val_accuracy: 0.7727\n",
      "Epoch 17/35\n",
      "1265/1265 [==============================] - 360s 285ms/step - loss: 0.0118 - accuracy: 0.9965 - val_loss: 1.9758 - val_accuracy: 0.7879\n",
      "Epoch 18/35\n",
      "1265/1265 [==============================] - 350s 277ms/step - loss: 0.0092 - accuracy: 0.9974 - val_loss: 1.9550 - val_accuracy: 0.7788\n",
      "Epoch 19/35\n",
      "1265/1265 [==============================] - 361s 285ms/step - loss: 0.0130 - accuracy: 0.9966 - val_loss: 2.0066 - val_accuracy: 0.7758\n",
      "Epoch 20/35\n",
      "1265/1265 [==============================] - 347s 274ms/step - loss: 0.0090 - accuracy: 0.9969 - val_loss: 2.3451 - val_accuracy: 0.7606\n",
      "Epoch 21/35\n",
      "1265/1265 [==============================] - 367s 290ms/step - loss: 0.0078 - accuracy: 0.9977 - val_loss: 1.9624 - val_accuracy: 0.7848\n",
      "Epoch 22/35\n",
      "1265/1265 [==============================] - 377s 298ms/step - loss: 0.0101 - accuracy: 0.9972 - val_loss: 2.1253 - val_accuracy: 0.7788\n",
      "Epoch 23/35\n",
      "1265/1265 [==============================] - 363s 287ms/step - loss: 0.0127 - accuracy: 0.9965 - val_loss: 2.0388 - val_accuracy: 0.7667\n",
      "Epoch 24/35\n",
      "1265/1265 [==============================] - 371s 294ms/step - loss: 0.0089 - accuracy: 0.9975 - val_loss: 2.1796 - val_accuracy: 0.7788\n",
      "Epoch 25/35\n",
      "1265/1265 [==============================] - 362s 286ms/step - loss: 0.0037 - accuracy: 0.9990 - val_loss: 2.1881 - val_accuracy: 0.7818\n",
      "Epoch 26/35\n",
      "1265/1265 [==============================] - 352s 278ms/step - loss: 0.0117 - accuracy: 0.9967 - val_loss: 2.7184 - val_accuracy: 0.7424\n",
      "Epoch 27/35\n",
      "1265/1265 [==============================] - 331s 261ms/step - loss: 0.0081 - accuracy: 0.9978 - val_loss: 1.9718 - val_accuracy: 0.7970\n",
      "Epoch 28/35\n",
      "1265/1265 [==============================] - 363s 287ms/step - loss: 0.0110 - accuracy: 0.9971 - val_loss: 2.1555 - val_accuracy: 0.7879\n",
      "Epoch 29/35\n",
      "1265/1265 [==============================] - 365s 289ms/step - loss: 0.0031 - accuracy: 0.9991 - val_loss: 1.9925 - val_accuracy: 0.8182\n",
      "Epoch 30/35\n",
      "1265/1265 [==============================] - 342s 270ms/step - loss: 0.0093 - accuracy: 0.9971 - val_loss: 2.3144 - val_accuracy: 0.7727\n",
      "Epoch 31/35\n",
      "1265/1265 [==============================] - 348s 275ms/step - loss: 0.0091 - accuracy: 0.9973 - val_loss: 2.2767 - val_accuracy: 0.7697\n",
      "Epoch 32/35\n",
      "1265/1265 [==============================] - 341s 269ms/step - loss: 0.0069 - accuracy: 0.9981 - val_loss: 2.2062 - val_accuracy: 0.7636\n",
      "Epoch 33/35\n",
      "1265/1265 [==============================] - 367s 290ms/step - loss: 3.5212e-04 - accuracy: 1.0000 - val_loss: 2.1978 - val_accuracy: 0.7758\n",
      "Epoch 34/35\n",
      "1265/1265 [==============================] - 339s 268ms/step - loss: 0.0092 - accuracy: 0.9976 - val_loss: 2.4570 - val_accuracy: 0.7545\n",
      "Epoch 35/35\n",
      "1265/1265 [==============================] - 359s 284ms/step - loss: 0.0111 - accuracy: 0.9968 - val_loss: 2.1788 - val_accuracy: 0.7758\n"
     ]
    },
    {
     "data": {
      "text/plain": [
       "<tensorflow.python.keras.callbacks.History at 0x2e0d1a46888>"
      ]
     },
     "execution_count": 14,
     "metadata": {},
     "output_type": "execute_result"
    }
   ],
   "source": [
    "model.fit_generator(x_train,steps_per_epoch=1265,validation_data=x_test,epochs=35,validation_steps=330)"
   ]
  },
  {
   "cell_type": "markdown",
   "metadata": {},
   "source": [
    "### Save the model"
   ]
  },
  {
   "cell_type": "code",
   "execution_count": 15,
   "metadata": {},
   "outputs": [],
   "source": [
    "model.save('chahat.h5')"
   ]
  },
  {
   "cell_type": "code",
   "execution_count": null,
   "metadata": {},
   "outputs": [],
   "source": []
  }
 ],
 "metadata": {
  "kernelspec": {
   "display_name": "Python 3",
   "language": "python",
   "name": "python3"
  },
  "language_info": {
   "codemirror_mode": {
    "name": "ipython",
    "version": 3
   },
   "file_extension": ".py",
   "mimetype": "text/x-python",
   "name": "python",
   "nbconvert_exporter": "python",
   "pygments_lexer": "ipython3",
   "version": "3.7.6"
  }
 },
 "nbformat": 4,
 "nbformat_minor": 4
}
